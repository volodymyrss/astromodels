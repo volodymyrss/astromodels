{
 "cells": [
  {
   "cell_type": "markdown",
   "metadata": {},
   "source": [
    "# Model tutorial\n",
    "\n",
    "In this tutorial we show how to build a simple model with two point sources, how to save it for later use, and re-load it back. We will also plot the spectra of the two point sources, with their components."
   ]
  },
  {
   "cell_type": "markdown",
   "metadata": {},
   "source": [
    "See the documents about creating and getting information about functions, point sources and extended sources for details about these operations. Here we only focus on the global model."
   ]
  },
  {
   "cell_type": "code",
   "execution_count": 3,
   "metadata": {
    "ExecuteTime": {
     "end_time": "2018-08-01T08:25:33.517290Z",
     "start_time": "2018-08-01T08:25:33.512572Z"
    }
   },
   "outputs": [],
   "source": [
    "from astromodels import *"
   ]
  },
  {
   "cell_type": "markdown",
   "metadata": {},
   "source": [
    "## Define sources"
   ]
  },
  {
   "cell_type": "markdown",
   "metadata": {},
   "source": [
    "Now let's define a point source (see \"Creating point sources\" for details and alternative way to accomplish this):"
   ]
  },
  {
   "cell_type": "code",
   "execution_count": 5,
   "metadata": {
    "ExecuteTime": {
     "end_time": "2018-08-01T08:26:00.156030Z",
     "start_time": "2018-08-01T08:26:00.120825Z"
    }
   },
   "outputs": [
    {
     "data": {
      "text/html": [
       "<ul>\n",
       "\n",
       "<li>source_1 (point source): \n",
       "<ul>\n",
       "\n",
       "<li>position: \n",
       "<ul>\n",
       "\n",
       "<li>ra: \n",
       "<ul>\n",
       "\n",
       "<li>value: 125.6</li>\n",
       "\n",
       "<li>desc: Right Ascension</li>\n",
       "\n",
       "<li>min_value: 0.0</li>\n",
       "\n",
       "<li>max_value: 360.0</li>\n",
       "\n",
       "<li>unit: deg</li>\n",
       "\n",
       "<li>is_normalization: False</li>\n",
       "\n",
       "</ul>\n",
       "\n",
       "</li>\n",
       "\n",
       "<li>dec: \n",
       "<ul>\n",
       "\n",
       "<li>value: -75.3</li>\n",
       "\n",
       "<li>desc: Declination</li>\n",
       "\n",
       "<li>min_value: -90.0</li>\n",
       "\n",
       "<li>max_value: 90.0</li>\n",
       "\n",
       "<li>unit: deg</li>\n",
       "\n",
       "<li>is_normalization: False</li>\n",
       "\n",
       "</ul>\n",
       "\n",
       "</li>\n",
       "\n",
       "<li>equinox: J2000</li>\n",
       "\n",
       "</ul>\n",
       "\n",
       "</li>\n",
       "\n",
       "<li>spectrum: \n",
       "<ul>\n",
       "\n",
       "<li>main: \n",
       "<ul>\n",
       "\n",
       "<li>Powerlaw: \n",
       "<ul>\n",
       "\n",
       "<li>K: \n",
       "<ul>\n",
       "\n",
       "<li>value: 1.0</li>\n",
       "\n",
       "<li>desc: Normalization (differential flux at the pivot value)</li>\n",
       "\n",
       "<li>min_value: 1e-30</li>\n",
       "\n",
       "<li>max_value: 1000.0</li>\n",
       "\n",
       "<li>unit: keV-1 s-1 cm-2</li>\n",
       "\n",
       "<li>is_normalization: True</li>\n",
       "\n",
       "</ul>\n",
       "\n",
       "</li>\n",
       "\n",
       "<li>piv: \n",
       "<ul>\n",
       "\n",
       "<li>value: 1.0</li>\n",
       "\n",
       "<li>desc: Pivot value</li>\n",
       "\n",
       "<li>min_value: None</li>\n",
       "\n",
       "<li>max_value: None</li>\n",
       "\n",
       "<li>unit: keV</li>\n",
       "\n",
       "<li>is_normalization: False</li>\n",
       "\n",
       "</ul>\n",
       "\n",
       "</li>\n",
       "\n",
       "<li>index: \n",
       "<ul>\n",
       "\n",
       "<li>value: -2.0</li>\n",
       "\n",
       "<li>desc: Photon index</li>\n",
       "\n",
       "<li>min_value: -10.0</li>\n",
       "\n",
       "<li>max_value: 10.0</li>\n",
       "\n",
       "<li>unit: </li>\n",
       "\n",
       "<li>is_normalization: False</li>\n",
       "\n",
       "</ul>\n",
       "\n",
       "</li>\n",
       "\n",
       "</ul>\n",
       "\n",
       "</li>\n",
       "\n",
       "</ul>\n",
       "\n",
       "</li>\n",
       "\n",
       "</ul>\n",
       "\n",
       "</li>\n",
       "\n",
       "</ul>\n",
       "\n",
       "</li>\n",
       "\n",
       "</ul>\n"
      ],
      "text/plain": [
       "  * source_1 (point source):\n",
       "    * position:\n",
       "      * ra:\n",
       "        * value: 125.6\n",
       "        * desc: Right Ascension\n",
       "        * min_value: 0.0\n",
       "        * max_value: 360.0\n",
       "        * unit: deg\n",
       "        * is_normalization: false\n",
       "      * dec:\n",
       "        * value: -75.3\n",
       "        * desc: Declination\n",
       "        * min_value: -90.0\n",
       "        * max_value: 90.0\n",
       "        * unit: deg\n",
       "        * is_normalization: false\n",
       "      * equinox: J2000\n",
       "    * spectrum:\n",
       "      * main:\n",
       "        * Powerlaw:\n",
       "          * K:\n",
       "            * value: 1.0\n",
       "            * desc: Normalization (differential flux at the pivot value)\n",
       "            * min_value: 1.0e-30\n",
       "            * max_value: 1000.0\n",
       "            * unit: keV-1 s-1 cm-2\n",
       "            * is_normalization: true\n",
       "          * piv:\n",
       "            * value: 1.0\n",
       "            * desc: Pivot value\n",
       "            * min_value: null\n",
       "            * max_value: null\n",
       "            * unit: keV\n",
       "            * is_normalization: false\n",
       "          * index:\n",
       "            * value: -2.0\n",
       "            * desc: Photon index\n",
       "            * min_value: -10.0\n",
       "            * max_value: 10.0\n",
       "            * unit: ''\n",
       "            * is_normalization: false\n",
       "        * polarization: {}"
      ]
     },
     "metadata": {},
     "output_type": "display_data"
    }
   ],
   "source": [
    "# Let's start by defining a simple point source with a power law spectrum\n",
    "\n",
    "pts1 = PointSource('source_1', ra=125.6, dec=-75.3, \n",
    "                   spectral_shape=Powerlaw())\n",
    "\n",
    "# Get some info about what we just created\n",
    "pts1.display()"
   ]
  },
  {
   "cell_type": "markdown",
   "metadata": {},
   "source": [
    "Now let's define another source, this time at Galactic Coordinates l = 11.25, b = -22.5, and with two spectral components:"
   ]
  },
  {
   "cell_type": "code",
   "execution_count": 7,
   "metadata": {
    "ExecuteTime": {
     "end_time": "2018-08-01T08:26:16.315244Z",
     "start_time": "2018-08-01T08:26:16.279806Z"
    }
   },
   "outputs": [
    {
     "data": {
      "text/html": [
       "<ul>\n",
       "\n",
       "<li>source_2 (point source): \n",
       "<ul>\n",
       "\n",
       "<li>position: \n",
       "<ul>\n",
       "\n",
       "<li>l: \n",
       "<ul>\n",
       "\n",
       "<li>value: 11.25</li>\n",
       "\n",
       "<li>desc: Galactic longitude</li>\n",
       "\n",
       "<li>min_value: 0.0</li>\n",
       "\n",
       "<li>max_value: 360.0</li>\n",
       "\n",
       "<li>unit: deg</li>\n",
       "\n",
       "<li>is_normalization: False</li>\n",
       "\n",
       "</ul>\n",
       "\n",
       "</li>\n",
       "\n",
       "<li>b: \n",
       "<ul>\n",
       "\n",
       "<li>value: -22.5</li>\n",
       "\n",
       "<li>desc: Galactic latitude</li>\n",
       "\n",
       "<li>min_value: -90.0</li>\n",
       "\n",
       "<li>max_value: 90.0</li>\n",
       "\n",
       "<li>unit: deg</li>\n",
       "\n",
       "<li>is_normalization: False</li>\n",
       "\n",
       "</ul>\n",
       "\n",
       "</li>\n",
       "\n",
       "<li>equinox: J2000</li>\n",
       "\n",
       "</ul>\n",
       "\n",
       "</li>\n",
       "\n",
       "<li>spectrum: \n",
       "<ul>\n",
       "\n",
       "<li>synchrotron: \n",
       "<ul>\n",
       "\n",
       "<li>Powerlaw: \n",
       "<ul>\n",
       "\n",
       "<li>K: \n",
       "<ul>\n",
       "\n",
       "<li>value: 1e-05</li>\n",
       "\n",
       "<li>desc: Normalization (differential flux at the pivot value)</li>\n",
       "\n",
       "<li>min_value: 1e-30</li>\n",
       "\n",
       "<li>max_value: 1000.0</li>\n",
       "\n",
       "<li>unit: keV-1 s-1 cm-2</li>\n",
       "\n",
       "<li>is_normalization: True</li>\n",
       "\n",
       "</ul>\n",
       "\n",
       "</li>\n",
       "\n",
       "<li>piv: \n",
       "<ul>\n",
       "\n",
       "<li>value: 1.0</li>\n",
       "\n",
       "<li>desc: Pivot value</li>\n",
       "\n",
       "<li>min_value: None</li>\n",
       "\n",
       "<li>max_value: None</li>\n",
       "\n",
       "<li>unit: keV</li>\n",
       "\n",
       "<li>is_normalization: False</li>\n",
       "\n",
       "</ul>\n",
       "\n",
       "</li>\n",
       "\n",
       "<li>index: \n",
       "<ul>\n",
       "\n",
       "<li>value: -0.75</li>\n",
       "\n",
       "<li>desc: Photon index</li>\n",
       "\n",
       "<li>min_value: -10.0</li>\n",
       "\n",
       "<li>max_value: 10.0</li>\n",
       "\n",
       "<li>unit: </li>\n",
       "\n",
       "<li>is_normalization: False</li>\n",
       "\n",
       "</ul>\n",
       "\n",
       "</li>\n",
       "\n",
       "</ul>\n",
       "\n",
       "</li>\n",
       "\n",
       "</ul>\n",
       "\n",
       "</li>\n",
       "\n",
       "<li>IC: \n",
       "<ul>\n",
       "\n",
       "<li>Powerlaw: \n",
       "<ul>\n",
       "\n",
       "<li>K: \n",
       "<ul>\n",
       "\n",
       "<li>value: 2e-06</li>\n",
       "\n",
       "<li>desc: Normalization (differential flux at the pivot value)</li>\n",
       "\n",
       "<li>min_value: 1e-30</li>\n",
       "\n",
       "<li>max_value: 1000.0</li>\n",
       "\n",
       "<li>unit: keV-1 s-1 cm-2</li>\n",
       "\n",
       "<li>is_normalization: True</li>\n",
       "\n",
       "</ul>\n",
       "\n",
       "</li>\n",
       "\n",
       "<li>piv: \n",
       "<ul>\n",
       "\n",
       "<li>value: 1.0</li>\n",
       "\n",
       "<li>desc: Pivot value</li>\n",
       "\n",
       "<li>min_value: None</li>\n",
       "\n",
       "<li>max_value: None</li>\n",
       "\n",
       "<li>unit: keV</li>\n",
       "\n",
       "<li>is_normalization: False</li>\n",
       "\n",
       "</ul>\n",
       "\n",
       "</li>\n",
       "\n",
       "<li>index: \n",
       "<ul>\n",
       "\n",
       "<li>value: -1.0</li>\n",
       "\n",
       "<li>desc: Photon index</li>\n",
       "\n",
       "<li>min_value: -10.0</li>\n",
       "\n",
       "<li>max_value: 10.0</li>\n",
       "\n",
       "<li>unit: </li>\n",
       "\n",
       "<li>is_normalization: False</li>\n",
       "\n",
       "</ul>\n",
       "\n",
       "</li>\n",
       "\n",
       "</ul>\n",
       "\n",
       "</li>\n",
       "\n",
       "<li>polarization: \n",
       "<ul>\n",
       "\n",
       "<li>degree: \n",
       "<ul>\n",
       "\n",
       "<li>value: 50.0</li>\n",
       "\n",
       "<li>desc: Polarization degree</li>\n",
       "\n",
       "<li>min_value: 0.0</li>\n",
       "\n",
       "<li>max_value: 100.0</li>\n",
       "\n",
       "<li>unit: </li>\n",
       "\n",
       "<li>is_normalization: False</li>\n",
       "\n",
       "</ul>\n",
       "\n",
       "</li>\n",
       "\n",
       "<li>angle: \n",
       "<ul>\n",
       "\n",
       "<li>value: 10.0</li>\n",
       "\n",
       "<li>desc: Polarization angle</li>\n",
       "\n",
       "<li>min_value: 0.0</li>\n",
       "\n",
       "<li>max_value: 180.0</li>\n",
       "\n",
       "<li>unit: deg</li>\n",
       "\n",
       "<li>is_normalization: False</li>\n",
       "\n",
       "</ul>\n",
       "\n",
       "</li>\n",
       "\n",
       "</ul>\n",
       "\n",
       "</li>\n",
       "\n",
       "</ul>\n",
       "\n",
       "</li>\n",
       "\n",
       "</ul>\n",
       "\n",
       "</li>\n",
       "\n",
       "</ul>\n",
       "\n",
       "</li>\n",
       "\n",
       "</ul>\n"
      ],
      "text/plain": [
       "  * source_2 (point source):\n",
       "    * position:\n",
       "      * l:\n",
       "        * value: 11.25\n",
       "        * desc: Galactic longitude\n",
       "        * min_value: 0.0\n",
       "        * max_value: 360.0\n",
       "        * unit: deg\n",
       "        * is_normalization: false\n",
       "      * b:\n",
       "        * value: -22.5\n",
       "        * desc: Galactic latitude\n",
       "        * min_value: -90.0\n",
       "        * max_value: 90.0\n",
       "        * unit: deg\n",
       "        * is_normalization: false\n",
       "      * equinox: J2000\n",
       "    * spectrum:\n",
       "      * synchrotron:\n",
       "        * Powerlaw:\n",
       "          * K:\n",
       "            * value: 1.0e-05\n",
       "            * desc: Normalization (differential flux at the pivot value)\n",
       "            * min_value: 1.0e-30\n",
       "            * max_value: 1000.0\n",
       "            * unit: keV-1 s-1 cm-2\n",
       "            * is_normalization: true\n",
       "          * piv:\n",
       "            * value: 1.0\n",
       "            * desc: Pivot value\n",
       "            * min_value: null\n",
       "            * max_value: null\n",
       "            * unit: keV\n",
       "            * is_normalization: false\n",
       "          * index:\n",
       "            * value: -0.75\n",
       "            * desc: Photon index\n",
       "            * min_value: -10.0\n",
       "            * max_value: 10.0\n",
       "            * unit: ''\n",
       "            * is_normalization: false\n",
       "        * polarization: {}\n",
       "      * IC:\n",
       "        * Powerlaw:\n",
       "          * K:\n",
       "            * value: 2.0000000000000003e-06\n",
       "            * desc: Normalization (differential flux at the pivot value)\n",
       "            * min_value: 1.0e-30\n",
       "            * max_value: 1000.0\n",
       "            * unit: keV-1 s-1 cm-2\n",
       "            * is_normalization: true\n",
       "          * piv:\n",
       "            * value: 1.0\n",
       "            * desc: Pivot value\n",
       "            * min_value: null\n",
       "            * max_value: null\n",
       "            * unit: keV\n",
       "            * is_normalization: false\n",
       "          * index:\n",
       "            * value: -1.0\n",
       "            * desc: Photon index\n",
       "            * min_value: -10.0\n",
       "            * max_value: 10.0\n",
       "            * unit: ''\n",
       "            * is_normalization: false\n",
       "        * polarization:\n",
       "          * degree:\n",
       "            * value: 50.0\n",
       "            * desc: Polarization degree\n",
       "            * min_value: 0.0\n",
       "            * max_value: 100.0\n",
       "            * unit: ''\n",
       "            * is_normalization: false\n",
       "          * angle:\n",
       "            * value: 10.0\n",
       "            * desc: Polarization angle\n",
       "            * min_value: 0.0\n",
       "            * max_value: 180.0\n",
       "            * unit: deg\n",
       "            * is_normalization: false"
      ]
     },
     "metadata": {},
     "output_type": "display_data"
    }
   ],
   "source": [
    "# Another point source with two spectral components\n",
    "\n",
    "spectrum1 = Powerlaw(K=1e-5, index=-0.75)\n",
    "component1 = SpectralComponent('synchrotron',spectrum1)\n",
    "\n",
    "# spectral component with polarization\n",
    "\n",
    "spectrum2 = Powerlaw(K=2e-6, index=-1.0)\n",
    "polarization = LinearPolarization(angle=10, degree=50)\n",
    "component2 = SpectralComponent('IC',spectrum2 ,polarization=polarization)\n",
    "\n",
    "point_source2 = PointSource('source_2', l=11.25, b=-22.5, components=[component1,component2])\n",
    "\n",
    "# Have a look at what we just created\n",
    "\n",
    "point_source2.display()"
   ]
  },
  {
   "cell_type": "markdown",
   "metadata": {},
   "source": [
    "## Create a model"
   ]
  },
  {
   "cell_type": "markdown",
   "metadata": {},
   "source": [
    "Now let's create our model, which comprises our two sources:"
   ]
  },
  {
   "cell_type": "code",
   "execution_count": 4,
   "metadata": {
    "collapsed": true
   },
   "outputs": [],
   "source": [
    "# Build a model with the two point sources\n",
    "\n",
    "my_model = Model(pts1, point_source2)"
   ]
  },
  {
   "cell_type": "markdown",
   "metadata": {},
   "source": [
    "Of course you can use as many sources as needed, like my_model = Model(pts1, pts2, pts3...)"
   ]
  },
  {
   "cell_type": "markdown",
   "metadata": {},
   "source": [
    "## Getting information about a model"
   ]
  },
  {
   "cell_type": "markdown",
   "metadata": {},
   "source": [
    "Using the .display() method we can see all free parameters currently in the model:"
   ]
  },
  {
   "cell_type": "code",
   "execution_count": 5,
   "metadata": {},
   "outputs": [
    {
     "data": {
      "text/html": [
       "Point sources: source_1,source_2<br><br>Extended sources: (none)<br><br>Particle sources: (none)<br><br>Free parameters:<br><table id=\"table69096656\">\n",
       "<thead><tr><th>name</th><th>value</th><th>min_value</th><th>max_value</th><th>unit</th><th>delta</th><th>free</th></tr></thead>\n",
       "<tr><td>source_1.spectrum.main.powerlaw.K</td><td>1.0</td><td>None</td><td>None</td><td>1 / (cm2 keV s)</td><td>0.3</td><td>True</td></tr>\n",
       "<tr><td>source_1.spectrum.main.powerlaw.index</td><td>-2.0</td><td>-10.0</td><td>10.0</td><td></td><td>0.6</td><td>True</td></tr>\n",
       "<tr><td>source_2.spectrum.synchrotron.powerlaw.K</td><td>1e-05</td><td>None</td><td>None</td><td>1 / (cm2 keV s)</td><td>0.3</td><td>True</td></tr>\n",
       "<tr><td>source_2.spectrum.synchrotron.powerlaw.index</td><td>-0.75</td><td>-10.0</td><td>10.0</td><td></td><td>0.6</td><td>True</td></tr>\n",
       "<tr><td>source_2.spectrum.IC.powerlaw.K</td><td>2e-06</td><td>None</td><td>None</td><td>1 / (cm2 keV s)</td><td>0.3</td><td>True</td></tr>\n",
       "<tr><td>source_2.spectrum.IC.powerlaw.index</td><td>-1.0</td><td>-10.0</td><td>10.0</td><td></td><td>0.6</td><td>True</td></tr>\n",
       "</table>"
      ],
      "text/plain": [
       "Point sources: source_1,source_2\n",
       "\n",
       "Extended sources: (none)\n",
       "\n",
       "Particle sources: (none)\n",
       "\n",
       "Free parameters:\n",
       "                    name                     value min_value ... delta free\n",
       "-------------------------------------------- ----- --------- ... ----- ----\n",
       "           source_1.spectrum.main.powerlaw.K   1.0      None ...   0.3 True\n",
       "       source_1.spectrum.main.powerlaw.index  -2.0     -10.0 ...   0.6 True\n",
       "    source_2.spectrum.synchrotron.powerlaw.K 1e-05      None ...   0.3 True\n",
       "source_2.spectrum.synchrotron.powerlaw.index -0.75     -10.0 ...   0.6 True\n",
       "             source_2.spectrum.IC.powerlaw.K 2e-06      None ...   0.3 True\n",
       "         source_2.spectrum.IC.powerlaw.index  -1.0     -10.0 ...   0.6 True"
      ]
     },
     "metadata": {},
     "output_type": "display_data"
    }
   ],
   "source": [
    "my_model.display()"
   ]
  },
  {
   "cell_type": "markdown",
   "metadata": {},
   "source": [
    "A dictionary of free parameters can be obtained like this:"
   ]
  },
  {
   "cell_type": "code",
   "execution_count": 6,
   "metadata": {
    "collapsed": true
   },
   "outputs": [],
   "source": [
    "free_parameters = my_model.free_parameters"
   ]
  },
  {
   "cell_type": "markdown",
   "metadata": {},
   "source": [
    "We can use such dictionary to loop over all free parameters:"
   ]
  },
  {
   "cell_type": "code",
   "execution_count": 7,
   "metadata": {},
   "outputs": [
    {
     "name": "stdout",
     "output_type": "stream",
     "text": [
      "Parameter source_1.spectrum.main.powerlaw.K is free\n",
      "Parameter source_1.spectrum.main.powerlaw.index is free\n",
      "Parameter source_2.spectrum.synchrotron.powerlaw.K is free\n",
      "Parameter source_2.spectrum.synchrotron.powerlaw.index is free\n",
      "Parameter source_2.spectrum.IC.powerlaw.K is free\n",
      "Parameter source_2.spectrum.IC.powerlaw.index is free\n"
     ]
    }
   ],
   "source": [
    "for parameter_name, parameter in free_parameters.iteritems():\n",
    "    \n",
    "    print(\"Parameter %s is free\" % parameter_name)"
   ]
  },
  {
   "cell_type": "markdown",
   "metadata": {},
   "source": [
    "More information on a particular source can be obtained like:"
   ]
  },
  {
   "cell_type": "code",
   "execution_count": 8,
   "metadata": {},
   "outputs": [
    {
     "data": {
      "text/html": [
       "<ul>\n",
       "\n",
       "<li>source_1 (point source): \n",
       "<ul>\n",
       "\n",
       "<li>position: \n",
       "<ul>\n",
       "\n",
       "<li>ra: \n",
       "<ul>\n",
       "\n",
       "<li>value: 125.6</li>\n",
       "\n",
       "<li>desc: Right Ascension</li>\n",
       "\n",
       "<li>min_value: 0.0</li>\n",
       "\n",
       "<li>max_value: 360.0</li>\n",
       "\n",
       "<li>unit: deg</li>\n",
       "\n",
       "</ul>\n",
       "\n",
       "</li>\n",
       "\n",
       "<li>dec: \n",
       "<ul>\n",
       "\n",
       "<li>value: -75.3</li>\n",
       "\n",
       "<li>desc: Declination</li>\n",
       "\n",
       "<li>min_value: -90.0</li>\n",
       "\n",
       "<li>max_value: 90.0</li>\n",
       "\n",
       "<li>unit: deg</li>\n",
       "\n",
       "</ul>\n",
       "\n",
       "</li>\n",
       "\n",
       "<li>equinox: J2000</li>\n",
       "\n",
       "</ul>\n",
       "\n",
       "</li>\n",
       "\n",
       "<li>spectrum: \n",
       "<ul>\n",
       "\n",
       "<li>main: \n",
       "<ul>\n",
       "\n",
       "<li>powerlaw: \n",
       "<ul>\n",
       "\n",
       "<li>K: \n",
       "<ul>\n",
       "\n",
       "<li>value: 1.0</li>\n",
       "\n",
       "<li>desc: Normalization (differential flux at the pivot value)</li>\n",
       "\n",
       "<li>min_value: None</li>\n",
       "\n",
       "<li>max_value: None</li>\n",
       "\n",
       "<li>unit: 1 / (cm2 keV s)</li>\n",
       "\n",
       "</ul>\n",
       "\n",
       "</li>\n",
       "\n",
       "<li>piv: \n",
       "<ul>\n",
       "\n",
       "<li>value: 1.0</li>\n",
       "\n",
       "<li>desc: Pivot value</li>\n",
       "\n",
       "<li>min_value: None</li>\n",
       "\n",
       "<li>max_value: None</li>\n",
       "\n",
       "<li>unit: keV</li>\n",
       "\n",
       "</ul>\n",
       "\n",
       "</li>\n",
       "\n",
       "<li>index: \n",
       "<ul>\n",
       "\n",
       "<li>value: -2.0</li>\n",
       "\n",
       "<li>desc: Photon index</li>\n",
       "\n",
       "<li>min_value: -10.0</li>\n",
       "\n",
       "<li>max_value: 10.0</li>\n",
       "\n",
       "<li>unit: </li>\n",
       "\n",
       "</ul>\n",
       "\n",
       "</li>\n",
       "\n",
       "</ul>\n",
       "\n",
       "</li>\n",
       "\n",
       "</ul>\n",
       "\n",
       "</li>\n",
       "\n",
       "</ul>\n",
       "\n",
       "</li>\n",
       "\n",
       "</ul>\n",
       "\n",
       "</li>\n",
       "\n",
       "</ul>\n"
      ],
      "text/plain": [
       "  * source_1 (point source): \n",
       "    * position: \n",
       "      * ra: \n",
       "        * value: 125.6\n",
       "        * desc: Right Ascension\n",
       "        * min_value: 0.0\n",
       "        * max_value: 360.0\n",
       "        * unit: deg\n",
       "      * dec: \n",
       "        * value: -75.3\n",
       "        * desc: Declination\n",
       "        * min_value: -90.0\n",
       "        * max_value: 90.0\n",
       "        * unit: deg\n",
       "      * equinox: J2000\n",
       "    * spectrum: \n",
       "      * main: \n",
       "        * powerlaw: \n",
       "          * K: \n",
       "            * value: 1.0\n",
       "            * desc: Normalization (differential flux at the pivot value)\n",
       "            * min_value: None\n",
       "            * max_value: None\n",
       "            * unit: 1 / (cm2 keV s)\n",
       "          * piv: \n",
       "            * value: 1.0\n",
       "            * desc: Pivot value\n",
       "            * min_value: None\n",
       "            * max_value: None\n",
       "            * unit: keV\n",
       "          * index: \n",
       "            * value: -2.0\n",
       "            * desc: Photon index\n",
       "            * min_value: -10.0\n",
       "            * max_value: 10.0\n",
       "            * unit: \n"
      ]
     },
     "metadata": {},
     "output_type": "display_data"
    }
   ],
   "source": [
    "my_model.source_1.display()"
   ]
  },
  {
   "cell_type": "markdown",
   "metadata": {},
   "source": [
    "More information about a particular instance of a function can be obtained like:"
   ]
  },
  {
   "cell_type": "code",
   "execution_count": 9,
   "metadata": {},
   "outputs": [
    {
     "data": {
      "text/html": [
       "<ul>\n",
       "\n",
       "<li>description: A simple power-law</li>\n",
       "\n",
       "<li>formula: $ K~\\frac{x}{piv}^{index} $</li>\n",
       "\n",
       "<li>parameters: \n",
       "<ul>\n",
       "\n",
       "<li>K: \n",
       "<ul>\n",
       "\n",
       "<li>value: 1.0</li>\n",
       "\n",
       "<li>desc: Normalization (differential flux at the pivot value)</li>\n",
       "\n",
       "<li>min_value: None</li>\n",
       "\n",
       "<li>max_value: None</li>\n",
       "\n",
       "<li>unit: 1 / (cm2 keV s)</li>\n",
       "\n",
       "<li>delta: 0.3</li>\n",
       "\n",
       "<li>free: True</li>\n",
       "\n",
       "</ul>\n",
       "\n",
       "</li>\n",
       "\n",
       "<li>piv: \n",
       "<ul>\n",
       "\n",
       "<li>value: 1.0</li>\n",
       "\n",
       "<li>desc: Pivot value</li>\n",
       "\n",
       "<li>min_value: None</li>\n",
       "\n",
       "<li>max_value: None</li>\n",
       "\n",
       "<li>unit: keV</li>\n",
       "\n",
       "<li>delta: 0.3</li>\n",
       "\n",
       "<li>free: False</li>\n",
       "\n",
       "</ul>\n",
       "\n",
       "</li>\n",
       "\n",
       "<li>index: \n",
       "<ul>\n",
       "\n",
       "<li>value: -2.0</li>\n",
       "\n",
       "<li>desc: Photon index</li>\n",
       "\n",
       "<li>min_value: -10.0</li>\n",
       "\n",
       "<li>max_value: 10.0</li>\n",
       "\n",
       "<li>unit: </li>\n",
       "\n",
       "<li>delta: 0.6</li>\n",
       "\n",
       "<li>free: True</li>\n",
       "\n",
       "</ul>\n",
       "\n",
       "</li>\n",
       "\n",
       "</ul>\n",
       "\n",
       "</li>\n",
       "\n",
       "</ul>\n"
      ],
      "text/plain": [
       "  * description: A simple power-law\n",
       "  * formula: $ K~\\frac{x}{piv}^{index} $\n",
       "  * parameters: \n",
       "    * K: \n",
       "      * value: 1.0\n",
       "      * desc: Normalization (differential flux at the pivot value)\n",
       "      * min_value: None\n",
       "      * max_value: None\n",
       "      * unit: 1 / (cm2 keV s)\n",
       "      * delta: 0.3\n",
       "      * free: True\n",
       "    * piv: \n",
       "      * value: 1.0\n",
       "      * desc: Pivot value\n",
       "      * min_value: None\n",
       "      * max_value: None\n",
       "      * unit: keV\n",
       "      * delta: 0.3\n",
       "      * free: False\n",
       "    * index: \n",
       "      * value: -2.0\n",
       "      * desc: Photon index\n",
       "      * min_value: -10.0\n",
       "      * max_value: 10.0\n",
       "      * unit: \n",
       "      * delta: 0.6\n",
       "      * free: True\n"
      ]
     },
     "metadata": {},
     "output_type": "display_data"
    }
   ],
   "source": [
    "my_model.source_1.spectrum.main.powerlaw.display()"
   ]
  },
  {
   "cell_type": "markdown",
   "metadata": {},
   "source": [
    "## Accessing and modifying sources and parameters from the model instance"
   ]
  },
  {
   "cell_type": "markdown",
   "metadata": {},
   "source": [
    "### Fully-qualified paths"
   ]
  },
  {
   "cell_type": "markdown",
   "metadata": {},
   "source": [
    "Each source and each parameter has a precise path within the model. These paths are displayed by the .display() method of the model instance (see above), and can be used like my_model.[path]. For example:"
   ]
  },
  {
   "cell_type": "code",
   "execution_count": 10,
   "metadata": {},
   "outputs": [
    {
     "data": {
      "text/html": [
       "Point sources: source_1,source_2<br><br>Extended sources: (none)<br><br>Particle sources: (none)<br><br>Free parameters:<br><table id=\"table27962896\">\n",
       "<thead><tr><th>name</th><th>value</th><th>min_value</th><th>max_value</th><th>unit</th><th>delta</th><th>free</th></tr></thead>\n",
       "<tr><td>source_1.spectrum.main.powerlaw.K</td><td>1.0</td><td>None</td><td>None</td><td>1 / (cm2 keV s)</td><td>0.3</td><td>True</td></tr>\n",
       "<tr><td>source_1.spectrum.main.powerlaw.index</td><td>-2.0</td><td>-10.0</td><td>10.0</td><td></td><td>0.6</td><td>True</td></tr>\n",
       "<tr><td>source_2.spectrum.synchrotron.powerlaw.K</td><td>1e-05</td><td>None</td><td>None</td><td>1 / (cm2 keV s)</td><td>0.3</td><td>True</td></tr>\n",
       "<tr><td>source_2.spectrum.synchrotron.powerlaw.index</td><td>-0.75</td><td>-10.0</td><td>10.0</td><td></td><td>0.6</td><td>True</td></tr>\n",
       "<tr><td>source_2.spectrum.IC.powerlaw.K</td><td>2e-06</td><td>None</td><td>None</td><td>1 / (cm2 keV s)</td><td>0.3</td><td>True</td></tr>\n",
       "<tr><td>source_2.spectrum.IC.powerlaw.index</td><td>-1.0</td><td>-10.0</td><td>10.0</td><td></td><td>0.6</td><td>True</td></tr>\n",
       "</table>"
      ],
      "text/plain": [
       "Point sources: source_1,source_2\n",
       "\n",
       "Extended sources: (none)\n",
       "\n",
       "Particle sources: (none)\n",
       "\n",
       "Free parameters:\n",
       "                    name                     value min_value ... delta free\n",
       "-------------------------------------------- ----- --------- ... ----- ----\n",
       "           source_1.spectrum.main.powerlaw.K   1.0      None ...   0.3 True\n",
       "       source_1.spectrum.main.powerlaw.index  -2.0     -10.0 ...   0.6 True\n",
       "    source_2.spectrum.synchrotron.powerlaw.K 1e-05      None ...   0.3 True\n",
       "source_2.spectrum.synchrotron.powerlaw.index -0.75     -10.0 ...   0.6 True\n",
       "             source_2.spectrum.IC.powerlaw.K 2e-06      None ...   0.3 True\n",
       "         source_2.spectrum.IC.powerlaw.index  -1.0     -10.0 ...   0.6 True"
      ]
     },
     "metadata": {},
     "output_type": "display_data"
    }
   ],
   "source": [
    "my_model.display()"
   ]
  },
  {
   "cell_type": "code",
   "execution_count": 11,
   "metadata": {
    "collapsed": true
   },
   "outputs": [],
   "source": [
    "# Access the K parameters of the powerlaw spectrum of the main component for source 1:\n",
    "\n",
    "my_model.source_1.spectrum.main.powerlaw.K = 1e-5\n",
    "\n",
    "# Access the logK parameters of the spectrum of the IC component of source 2:\n",
    "\n",
    "my_model.source_2.spectrum.IC.powerlaw.K = 1e-6"
   ]
  },
  {
   "cell_type": "markdown",
   "metadata": {},
   "source": [
    "The structure of these paths is easy to understand. The model is a tree-like structure. The root of the tree is always the model instance itself. The second level is constituted by the various sources. The structure within a source can be understood by calling the .display method:"
   ]
  },
  {
   "cell_type": "code",
   "execution_count": 12,
   "metadata": {},
   "outputs": [
    {
     "data": {
      "text/html": [
       "<ul>\n",
       "\n",
       "<li>source_1 (point source): \n",
       "<ul>\n",
       "\n",
       "<li>position: \n",
       "<ul>\n",
       "\n",
       "<li>ra: \n",
       "<ul>\n",
       "\n",
       "<li>value: 125.6</li>\n",
       "\n",
       "<li>desc: Right Ascension</li>\n",
       "\n",
       "<li>min_value: 0.0</li>\n",
       "\n",
       "<li>max_value: 360.0</li>\n",
       "\n",
       "<li>unit: deg</li>\n",
       "\n",
       "</ul>\n",
       "\n",
       "</li>\n",
       "\n",
       "<li>dec: \n",
       "<ul>\n",
       "\n",
       "<li>value: -75.3</li>\n",
       "\n",
       "<li>desc: Declination</li>\n",
       "\n",
       "<li>min_value: -90.0</li>\n",
       "\n",
       "<li>max_value: 90.0</li>\n",
       "\n",
       "<li>unit: deg</li>\n",
       "\n",
       "</ul>\n",
       "\n",
       "</li>\n",
       "\n",
       "<li>equinox: J2000</li>\n",
       "\n",
       "</ul>\n",
       "\n",
       "</li>\n",
       "\n",
       "<li>spectrum: \n",
       "<ul>\n",
       "\n",
       "<li>main: \n",
       "<ul>\n",
       "\n",
       "<li>powerlaw: \n",
       "<ul>\n",
       "\n",
       "<li>K: \n",
       "<ul>\n",
       "\n",
       "<li>value: 1e-05</li>\n",
       "\n",
       "<li>desc: Normalization (differential flux at the pivot value)</li>\n",
       "\n",
       "<li>min_value: None</li>\n",
       "\n",
       "<li>max_value: None</li>\n",
       "\n",
       "<li>unit: 1 / (cm2 keV s)</li>\n",
       "\n",
       "</ul>\n",
       "\n",
       "</li>\n",
       "\n",
       "<li>piv: \n",
       "<ul>\n",
       "\n",
       "<li>value: 1.0</li>\n",
       "\n",
       "<li>desc: Pivot value</li>\n",
       "\n",
       "<li>min_value: None</li>\n",
       "\n",
       "<li>max_value: None</li>\n",
       "\n",
       "<li>unit: keV</li>\n",
       "\n",
       "</ul>\n",
       "\n",
       "</li>\n",
       "\n",
       "<li>index: \n",
       "<ul>\n",
       "\n",
       "<li>value: -2.0</li>\n",
       "\n",
       "<li>desc: Photon index</li>\n",
       "\n",
       "<li>min_value: -10.0</li>\n",
       "\n",
       "<li>max_value: 10.0</li>\n",
       "\n",
       "<li>unit: </li>\n",
       "\n",
       "</ul>\n",
       "\n",
       "</li>\n",
       "\n",
       "</ul>\n",
       "\n",
       "</li>\n",
       "\n",
       "</ul>\n",
       "\n",
       "</li>\n",
       "\n",
       "</ul>\n",
       "\n",
       "</li>\n",
       "\n",
       "</ul>\n",
       "\n",
       "</li>\n",
       "\n",
       "</ul>\n"
      ],
      "text/plain": [
       "  * source_1 (point source): \n",
       "    * position: \n",
       "      * ra: \n",
       "        * value: 125.6\n",
       "        * desc: Right Ascension\n",
       "        * min_value: 0.0\n",
       "        * max_value: 360.0\n",
       "        * unit: deg\n",
       "      * dec: \n",
       "        * value: -75.3\n",
       "        * desc: Declination\n",
       "        * min_value: -90.0\n",
       "        * max_value: 90.0\n",
       "        * unit: deg\n",
       "      * equinox: J2000\n",
       "    * spectrum: \n",
       "      * main: \n",
       "        * powerlaw: \n",
       "          * K: \n",
       "            * value: 1e-05\n",
       "            * desc: Normalization (differential flux at the pivot value)\n",
       "            * min_value: None\n",
       "            * max_value: None\n",
       "            * unit: 1 / (cm2 keV s)\n",
       "          * piv: \n",
       "            * value: 1.0\n",
       "            * desc: Pivot value\n",
       "            * min_value: None\n",
       "            * max_value: None\n",
       "            * unit: keV\n",
       "          * index: \n",
       "            * value: -2.0\n",
       "            * desc: Photon index\n",
       "            * min_value: -10.0\n",
       "            * max_value: 10.0\n",
       "            * unit: \n"
      ]
     },
     "metadata": {},
     "output_type": "display_data"
    }
   ],
   "source": [
    "my_model.source_1.display()"
   ]
  },
  {
   "cell_type": "markdown",
   "metadata": {},
   "source": [
    "Each indentation represents one level, so to access the \"ra\" element we can follow the levels shown by the .display() method:"
   ]
  },
  {
   "cell_type": "code",
   "execution_count": 13,
   "metadata": {},
   "outputs": [
    {
     "data": {
      "text/html": [
       "Parameter ra = 125.6 [deg]\n",
       "(min_value = 0.0 deg, max_value = 360.0 deg, delta = 37.68, free = False)"
      ],
      "text/plain": [
       "Parameter ra = 125.6 [deg]\n",
       "(min_value = 0.0 deg, max_value = 360.0 deg, delta = 37.68, free = False)"
      ]
     },
     "metadata": {},
     "output_type": "display_data"
    }
   ],
   "source": [
    "ra_parameter = my_model.source_1.position.ra\n",
    "\n",
    "ra_parameter.display()\n",
    "\n",
    "# NOTE: this is a Parameter instance. To get the position of the source as a\n",
    "# floating point number, use:\n",
    "# my_model.source_1.position.get_ra()\n",
    "# which will work for any source"
   ]
  },
  {
   "cell_type": "markdown",
   "metadata": {},
   "source": [
    "while to access the K parameter of the power law function we can do:"
   ]
  },
  {
   "cell_type": "code",
   "execution_count": 14,
   "metadata": {},
   "outputs": [
    {
     "data": {
      "text/html": [
       "Parameter K = 1e-05 [1 / (cm2 keV s)]\n",
       "(min_value = None, max_value = None, delta = 0.3, free = True)"
      ],
      "text/plain": [
       "Parameter K = 1e-05 [1 / (cm2 keV s)]\n",
       "(min_value = None, max_value = None, delta = 0.3, free = True)"
      ]
     },
     "metadata": {},
     "output_type": "display_data"
    }
   ],
   "source": [
    "K_parameter = my_model.source_1.spectrum.main.powerlaw.K\n",
    "\n",
    "K_parameter.display()"
   ]
  },
  {
   "cell_type": "markdown",
   "metadata": {},
   "source": [
    "Finally, there is an alternative way of using paths, which might be more adapt for scripts:"
   ]
  },
  {
   "cell_type": "code",
   "execution_count": 15,
   "metadata": {},
   "outputs": [
    {
     "data": {
      "text/html": [
       "Parameter K = 1e-05 [1 / (cm2 keV s)]\n",
       "(min_value = None, max_value = None, delta = 0.3, free = True)"
      ],
      "text/plain": [
       "Parameter K = 1e-05 [1 / (cm2 keV s)]\n",
       "(min_value = None, max_value = None, delta = 0.3, free = True)"
      ]
     },
     "metadata": {},
     "output_type": "display_data"
    }
   ],
   "source": [
    "my_model['source_1.spectrum.main.powerlaw.K'].display()"
   ]
  },
  {
   "cell_type": "markdown",
   "metadata": {},
   "source": [
    "You can find much more information in the document \"Additional features for scripts and applications\"."
   ]
  },
  {
   "cell_type": "markdown",
   "metadata": {},
   "source": [
    "These fully-qualified paths are unique to each element, are very descriptive and easy to understand. They can always be used and are encouraged in general, but especially in scripts, when the effort spent writing them is paid off in terms of clarity. However, there is an alternative way which might be more convenient in certain situation, especially when models are simple and the chances of getting confused are low. This alternative method is described below."
   ]
  },
  {
   "cell_type": "markdown",
   "metadata": {},
   "source": [
    "### Using shortcuts"
   ]
  },
  {
   "cell_type": "markdown",
   "metadata": {},
   "source": [
    "Exploiting the feature of the python language, we can create names (\"shortcuts\") for objects:"
   ]
  },
  {
   "cell_type": "code",
   "execution_count": 16,
   "metadata": {
    "collapsed": true
   },
   "outputs": [],
   "source": [
    "# Create a \"shortcut\" for the spectrum of a source\n",
    "\n",
    "powerlaw_1 = my_model.source_1.spectrum.main.powerlaw\n",
    "\n",
    "# Now we can change the values of that power law as:\n",
    "powerlaw_1.logK = -1.2\n",
    "\n",
    "# GOTCHA: while it is possible to create shortcuts for parameters, it is not encouraged\n",
    "# Indeed, this will not work:\n",
    "# logK_1 = my_model.source_1.spectrum.main.powerlaw.logK\n",
    "# logK_1 = -1.2 # WILL NOT WORK\n",
    "# In order to use a shortcut for a parameter to change its value, you have to explicitly\n",
    "# set its property 'value':\n",
    "# logK_1.value = -1.2 # This will work"
   ]
  },
  {
   "cell_type": "markdown",
   "metadata": {},
   "source": [
    "Shortcut can point at any point of the tree:"
   ]
  },
  {
   "cell_type": "code",
   "execution_count": 17,
   "metadata": {
    "collapsed": true
   },
   "outputs": [],
   "source": [
    "# Create a shortcut of a source\n",
    "source_1 = my_model.source_1\n",
    "\n",
    "# Now we can do:\n",
    "source_1.spectrum.main.powerlaw.index = -2.3\n",
    "\n",
    "# Create a shortcut for a component\n",
    "\n",
    "main_component = my_model.source_1.spectrum.main\n",
    "\n",
    "# Now we can do:\n",
    "main_component.powerlaw.index = -1.3"
   ]
  },
  {
   "cell_type": "markdown",
   "metadata": {},
   "source": [
    "If you are ever in doubt of what a particular shortcut stands for, you can always retrieve the full path of the element the shortcut is pointing to like this:"
   ]
  },
  {
   "cell_type": "code",
   "execution_count": 18,
   "metadata": {},
   "outputs": [
    {
     "name": "stdout",
     "output_type": "stream",
     "text": [
      "source_1.spectrum.main\n"
     ]
    }
   ],
   "source": [
    "print(main_component.path)"
   ]
  },
  {
   "cell_type": "markdown",
   "metadata": {},
   "source": [
    "## Saving a model to file"
   ]
  },
  {
   "cell_type": "markdown",
   "metadata": {},
   "source": [
    "An existing model can be saved to a file with:"
   ]
  },
  {
   "cell_type": "code",
   "execution_count": 19,
   "metadata": {},
   "outputs": [],
   "source": [
    "# Save the model to a file, overwriting it if already existing\n",
    "\n",
    "my_model.save('my_model.yml', overwrite=True)"
   ]
  },
  {
   "cell_type": "markdown",
   "metadata": {},
   "source": [
    "The content of the file is YAML code, which is human-readable and very easy to understand. Let's have a look:"
   ]
  },
  {
   "cell_type": "code",
   "execution_count": 20,
   "metadata": {
    "scrolled": true
   },
   "outputs": [
    {
     "name": "stdout",
     "output_type": "stream",
     "text": [
      "source_1 (point source):\n",
      "\n",
      "  position:\n",
      "\n",
      "    ra: {value: 125.6, desc: Right Ascension, min_value: 0.0, max_value: 360.0, unit: deg,\n",
      "\n",
      "      delta: 37.68, free: false}\n",
      "\n",
      "    dec: {value: -75.3, desc: Declination, min_value: -90.0, max_value: 90.0, unit: deg,\n",
      "\n",
      "      delta: 22.59, free: false}\n",
      "\n",
      "    equinox: J2000\n",
      "\n",
      "  spectrum:\n",
      "\n",
      "    main:\n",
      "\n",
      "      powerlaw:\n",
      "\n",
      "        K: {value: 1.0e-05, desc: Normalization (differential flux at the pivot value),\n",
      "\n",
      "          min_value: null, max_value: null, unit: 1 / (cm2 keV s), delta: 0.3, free: true}\n",
      "\n",
      "        piv: {value: 1.0, desc: Pivot value, min_value: null, max_value: null, unit: keV,\n",
      "\n",
      "          delta: 0.3, free: false}\n",
      "\n",
      "        index: {value: -1.3, desc: Photon index, min_value: -10.0, max_value: 10.0,\n",
      "\n",
      "          unit: '', delta: 0.6, free: true}\n",
      "\n",
      "      polarization: {}\n",
      "\n",
      "source_2 (point source):\n",
      "\n",
      "  position:\n",
      "\n",
      "    l: {value: 11.25, desc: Galactic longitude, min_value: 0.0, max_value: 360.0,\n",
      "\n",
      "      unit: deg, delta: 3.375, free: false}\n",
      "\n",
      "    b: {value: -22.5, desc: Galactic latitude, min_value: -90.0, max_value: 90.0,\n",
      "\n",
      "      unit: deg, delta: 6.75, free: false}\n",
      "\n",
      "    equinox: J2000\n",
      "\n",
      "  spectrum:\n",
      "\n",
      "    synchrotron:\n",
      "\n",
      "      powerlaw:\n",
      "\n",
      "        K: {value: 1.0e-05, desc: Normalization (differential flux at the pivot value),\n",
      "\n",
      "          min_value: null, max_value: null, unit: 1 / (cm2 keV s), delta: 0.3, free: true}\n",
      "\n",
      "        piv: {value: 1.0, desc: Pivot value, min_value: null, max_value: null, unit: keV,\n",
      "\n",
      "          delta: 0.3, free: false}\n",
      "\n",
      "        index: {value: -0.75, desc: Photon index, min_value: -10.0, max_value: 10.0,\n",
      "\n",
      "          unit: '', delta: 0.6, free: true}\n",
      "\n",
      "      polarization: {}\n",
      "\n",
      "    IC:\n",
      "\n",
      "      powerlaw:\n",
      "\n",
      "        K: {value: 1.0e-06, desc: Normalization (differential flux at the pivot value),\n",
      "\n",
      "          min_value: null, max_value: null, unit: 1 / (cm2 keV s), delta: 0.3, free: true}\n",
      "\n",
      "        piv: {value: 1.0, desc: Pivot value, min_value: null, max_value: null, unit: keV,\n",
      "\n",
      "          delta: 0.3, free: false}\n",
      "\n",
      "        index: {value: -1.0, desc: Photon index, min_value: -10.0, max_value: 10.0,\n",
      "\n",
      "          unit: '', delta: 0.6, free: true}\n",
      "\n",
      "      polarization: {}\n",
      "\n",
      "\n"
     ]
    }
   ],
   "source": [
    "with open('my_model.yml') as yaml_file:\n",
    "    \n",
    "    print(\"\".join(yaml_file.readlines()))"
   ]
  },
  {
   "cell_type": "markdown",
   "metadata": {},
   "source": [
    "## Load a model from a file"
   ]
  },
  {
   "cell_type": "markdown",
   "metadata": {},
   "source": [
    "Now suppose that you want to load back a file you created in a previous session. You can do it with:"
   ]
  },
  {
   "cell_type": "code",
   "execution_count": 21,
   "metadata": {},
   "outputs": [
    {
     "data": {
      "text/html": [
       "Point sources: source_1,source_2<br><br>Extended sources: (none)<br><br>Particle sources: (none)<br><br>Free parameters:<br><table id=\"table69097872\">\n",
       "<thead><tr><th>name</th><th>value</th><th>min_value</th><th>max_value</th><th>unit</th><th>delta</th><th>free</th></tr></thead>\n",
       "<tr><td>source_1.spectrum.main.powerlaw.K</td><td>1e-05</td><td>None</td><td>None</td><td>1 / (cm2 keV s)</td><td>0.3</td><td>True</td></tr>\n",
       "<tr><td>source_1.spectrum.main.powerlaw.index</td><td>-1.3</td><td>-10.0</td><td>10.0</td><td></td><td>0.6</td><td>True</td></tr>\n",
       "<tr><td>source_2.spectrum.synchrotron.powerlaw.K</td><td>1e-05</td><td>None</td><td>None</td><td>1 / (cm2 keV s)</td><td>0.3</td><td>True</td></tr>\n",
       "<tr><td>source_2.spectrum.synchrotron.powerlaw.index</td><td>-0.75</td><td>-10.0</td><td>10.0</td><td></td><td>0.6</td><td>True</td></tr>\n",
       "<tr><td>source_2.spectrum.IC.powerlaw.K</td><td>1e-06</td><td>None</td><td>None</td><td>1 / (cm2 keV s)</td><td>0.3</td><td>True</td></tr>\n",
       "<tr><td>source_2.spectrum.IC.powerlaw.index</td><td>-1.0</td><td>-10.0</td><td>10.0</td><td></td><td>0.6</td><td>True</td></tr>\n",
       "</table>"
      ],
      "text/plain": [
       "Point sources: source_1,source_2\n",
       "\n",
       "Extended sources: (none)\n",
       "\n",
       "Particle sources: (none)\n",
       "\n",
       "Free parameters:\n",
       "                    name                     value min_value ... delta free\n",
       "-------------------------------------------- ----- --------- ... ----- ----\n",
       "           source_1.spectrum.main.powerlaw.K 1e-05      None ...   0.3 True\n",
       "       source_1.spectrum.main.powerlaw.index  -1.3     -10.0 ...   0.6 True\n",
       "    source_2.spectrum.synchrotron.powerlaw.K 1e-05      None ...   0.3 True\n",
       "source_2.spectrum.synchrotron.powerlaw.index -0.75     -10.0 ...   0.6 True\n",
       "             source_2.spectrum.IC.powerlaw.K 1e-06      None ...   0.3 True\n",
       "         source_2.spectrum.IC.powerlaw.index  -1.0     -10.0 ...   0.6 True"
      ]
     },
     "metadata": {},
     "output_type": "display_data"
    }
   ],
   "source": [
    "my_model = load_model('my_model.yml')\n",
    "\n",
    "# Explore the model we just loaded back\n",
    "\n",
    "my_model.display()"
   ]
  },
  {
   "cell_type": "code",
   "execution_count": 22,
   "metadata": {},
   "outputs": [
    {
     "name": "stderr",
     "output_type": "stream",
     "text": [
      "/home/giacomov/software/canopy-env/lib/python2.7/site-packages/matplotlib/font_manager.py:273: UserWarning: Matplotlib is building the font cache using fc-list. This may take a moment.\n",
      "  warnings.warn('Matplotlib is building the font cache using fc-list. This may take a moment.')\n"
     ]
    },
    {
     "data": {
      "image/png": "[encoded data removed]",
      "text/plain": [
       "<matplotlib.figure.Figure at 0x50a9710>"
      ]
     },
     "metadata": {},
     "output_type": "display_data"
    }
   ],
   "source": [
    "# Now evaluate and plot our models. You need matplotlib for this\n",
    "\n",
    "import matplotlib.pyplot as plt\n",
    "\n",
    "%matplotlib inline\n",
    "\n",
    "# Energies where we want to evaluate the model\n",
    "\n",
    "e = np.logspace(0,3,100)\n",
    "\n",
    "# Loop over the sources\n",
    "\n",
    "for src_name, src in my_model.point_sources.iteritems():\n",
    "    \n",
    "    # Loop over the components of each source\n",
    "    \n",
    "    for comp_name, component in src.components.iteritems():\n",
    "        \n",
    "        # Get the differential flux (in ph/cm2/s)\n",
    "        \n",
    "        flux = component.shape(e * u.keV)\n",
    "        \n",
    "        # this can also be accomplished with:\n",
    "        # flux = component.powerlaw(e)\n",
    "        # but this requires to know the name of the\n",
    "        # spectral shape which was used\n",
    "        \n",
    "        # Plot this component for this source\n",
    "        \n",
    "        plt.loglog(e, flux,label=\"%s of %s\" % (component.name, src.name))\n",
    "\n",
    "plt.legend(loc=0)\n",
    "\n",
    "_ = plt.xlabel(\"Energy\")\n",
    "_ = plt.ylabel(r\"Flux (ph cm$^{-2}$ s$^{-1}$ keV$^{-1}$\")"
   ]
  },
  {
   "cell_type": "markdown",
   "metadata": {},
   "source": [
    "## Linking parameters"
   ]
  },
  {
   "cell_type": "markdown",
   "metadata": {},
   "source": [
    "Sometimes you want to link two parameters of a model so that they have the same value. This can be easily accomplished in astromodels:"
   ]
  },
  {
   "cell_type": "code",
   "execution_count": 23,
   "metadata": {},
   "outputs": [
    {
     "data": {
      "text/html": [
       "Point sources: source_1,source_2<br><br>Extended sources: (none)<br><br>Particle sources: (none)<br><br>Free parameters:<br><table id=\"table69123600\">\n",
       "<thead><tr><th>name</th><th>value</th><th>min_value</th><th>max_value</th><th>unit</th><th>delta</th><th>free</th></tr></thead>\n",
       "<tr><td>source_1.spectrum.main.powerlaw.K</td><td>1e-05</td><td>None</td><td>None</td><td>1 / (cm2 keV s)</td><td>0.3</td><td>True</td></tr>\n",
       "<tr><td>source_1.spectrum.main.powerlaw.index</td><td>-1.3</td><td>-10.0</td><td>10.0</td><td></td><td>0.6</td><td>True</td></tr>\n",
       "<tr><td>source_2.spectrum.synchrotron.powerlaw.K</td><td>1e-05</td><td>None</td><td>None</td><td>1 / (cm2 keV s)</td><td>0.3</td><td>True</td></tr>\n",
       "<tr><td>source_2.spectrum.synchrotron.powerlaw.index</td><td>-0.75</td><td>-10.0</td><td>10.0</td><td></td><td>0.6</td><td>True</td></tr>\n",
       "<tr><td>source_2.spectrum.IC.powerlaw.K</td><td>1e-06</td><td>None</td><td>None</td><td>1 / (cm2 keV s)</td><td>0.3</td><td>True</td></tr>\n",
       "</table><br><br>Linked parameters:<br><table id=\"table85826320\">\n",
       "<thead><tr><th>name</th><th>linked to</th><th>function</th><th>current value</th><th>unit</th></tr></thead>\n",
       "<tr><td>source_2.spectrum.IC.powerlaw.index</td><td>source_1.spectrum.main.powerlaw.index</td><td>identity</td><td>-1.3</td><td></td></tr>\n",
       "</table>"
      ],
      "text/plain": [
       "Point sources: source_1,source_2\n",
       "\n",
       "Extended sources: (none)\n",
       "\n",
       "Particle sources: (none)\n",
       "\n",
       "Free parameters:\n",
       "                    name                     value min_value ... delta free\n",
       "-------------------------------------------- ----- --------- ... ----- ----\n",
       "           source_1.spectrum.main.powerlaw.K 1e-05      None ...   0.3 True\n",
       "       source_1.spectrum.main.powerlaw.index  -1.3     -10.0 ...   0.6 True\n",
       "    source_2.spectrum.synchrotron.powerlaw.K 1e-05      None ...   0.3 True\n",
       "source_2.spectrum.synchrotron.powerlaw.index -0.75     -10.0 ...   0.6 True\n",
       "             source_2.spectrum.IC.powerlaw.K 1e-06      None ...   0.3 True\n",
       "\n",
       "\n",
       "Linked parameters:\n",
       "                name                ... unit\n",
       "----------------------------------- ... ----\n",
       "source_2.spectrum.IC.powerlaw.index ...     "
      ]
     },
     "metadata": {},
     "output_type": "display_data"
    }
   ],
   "source": [
    "# Link the photon index of the first source with the\n",
    "# photon index of the IC component of the second source\n",
    "\n",
    "my_model.link(my_model.source_2.spectrum.IC.powerlaw.index,\n",
    "              my_model.source_1.spectrum.main.powerlaw.index)\n",
    "\n",
    "my_model.display()"
   ]
  },
  {
   "cell_type": "markdown",
   "metadata": {},
   "source": [
    "### Advanced use of linking: arbitrary functions"
   ]
  },
  {
   "cell_type": "markdown",
   "metadata": {},
   "source": [
    "Astromodels takes this a step further. Parameters can be linked to each other through any function. The parameters of the linking function become parameters of the model like any other, and can be left free to vary or fixed. For example, let's consider the case where we want the photon index of the IC component of the second source (p2) to be equal to the photon index of the first source (p1) plus a constant. We can link the two parameters with the 'bias' function f(x) = x + k, so that p2(p1) = p1 + k:"
   ]
  },
  {
   "cell_type": "code",
   "execution_count": 24,
   "metadata": {},
   "outputs": [
    {
     "data": {
      "text/html": [
       "Point sources: source_1,source_2<br><br>Extended sources: (none)<br><br>Particle sources: (none)<br><br>Free parameters:<br><table id=\"table89949584\">\n",
       "<thead><tr><th>name</th><th>value</th><th>min_value</th><th>max_value</th><th>unit</th><th>delta</th><th>free</th></tr></thead>\n",
       "<tr><td>source_1.spectrum.main.powerlaw.K</td><td>1e-05</td><td>None</td><td>None</td><td>1 / (cm2 keV s)</td><td>0.3</td><td>True</td></tr>\n",
       "<tr><td>source_1.spectrum.main.powerlaw.index</td><td>-1.3</td><td>-10.0</td><td>10.0</td><td></td><td>0.6</td><td>True</td></tr>\n",
       "<tr><td>source_2.spectrum.synchrotron.powerlaw.K</td><td>1e-05</td><td>None</td><td>None</td><td>1 / (cm2 keV s)</td><td>0.3</td><td>True</td></tr>\n",
       "<tr><td>source_2.spectrum.synchrotron.powerlaw.index</td><td>-0.75</td><td>-10.0</td><td>10.0</td><td></td><td>0.6</td><td>True</td></tr>\n",
       "<tr><td>source_2.spectrum.IC.powerlaw.K</td><td>1e-06</td><td>None</td><td>None</td><td>1 / (cm2 keV s)</td><td>0.3</td><td>True</td></tr>\n",
       "<tr><td>source_2.spectrum.IC.powerlaw.index.bias.k</td><td>0.0</td><td>None</td><td>None</td><td></td><td>0.1</td><td>True</td></tr>\n",
       "</table><br><br>Linked parameters:<br><table id=\"table89948368\">\n",
       "<thead><tr><th>name</th><th>linked to</th><th>function</th><th>current value</th><th>unit</th></tr></thead>\n",
       "<tr><td>source_2.spectrum.IC.powerlaw.index</td><td>source_1.spectrum.main.powerlaw.index</td><td>bias</td><td>-1.3</td><td></td></tr>\n",
       "</table>"
      ],
      "text/plain": [
       "Point sources: source_1,source_2\n",
       "\n",
       "Extended sources: (none)\n",
       "\n",
       "Particle sources: (none)\n",
       "\n",
       "Free parameters:\n",
       "                    name                     value min_value ... delta free\n",
       "-------------------------------------------- ----- --------- ... ----- ----\n",
       "           source_1.spectrum.main.powerlaw.K 1e-05      None ...   0.3 True\n",
       "       source_1.spectrum.main.powerlaw.index  -1.3     -10.0 ...   0.6 True\n",
       "    source_2.spectrum.synchrotron.powerlaw.K 1e-05      None ...   0.3 True\n",
       "source_2.spectrum.synchrotron.powerlaw.index -0.75     -10.0 ...   0.6 True\n",
       "             source_2.spectrum.IC.powerlaw.K 1e-06      None ...   0.3 True\n",
       "  source_2.spectrum.IC.powerlaw.index.bias.k   0.0      None ...   0.1 True\n",
       "\n",
       "\n",
       "Linked parameters:\n",
       "                name                ... unit\n",
       "----------------------------------- ... ----\n",
       "source_2.spectrum.IC.powerlaw.index ...     "
      ]
     },
     "metadata": {},
     "output_type": "display_data"
    }
   ],
   "source": [
    "# Link the photon indexes through the 'bias' function, i.e.,\n",
    "# the photon index of the IC component of the second source is fixed to be the\n",
    "# photon index of the first source plus a constant k\n",
    "\n",
    "link_function = bias()\n",
    "\n",
    "my_model.link(my_model.source_2.spectrum.IC.powerlaw.index,\n",
    "              my_model.source_1.spectrum.main.powerlaw.index,\n",
    "              link_function)\n",
    "\n",
    "# The parameters of the linking function become parameters\n",
    "# of the model, and are put in the model tree under the parameter they are\n",
    "# linking.\n",
    "# In this case the only parameter of the 'bias' function ('k') becomes then\n",
    "# my_model.source_2.spectrum.IC.powerlaw.logK.bias.k\n",
    "\n",
    "my_model.display()"
   ]
  },
  {
   "cell_type": "markdown",
   "metadata": {},
   "source": [
    "If we want to fix say p2 = p1 - 1.2, we can fix k to that:"
   ]
  },
  {
   "cell_type": "code",
   "execution_count": 25,
   "metadata": {},
   "outputs": [
    {
     "data": {
      "text/html": [
       "Point sources: source_1,source_2<br><br>Extended sources: (none)<br><br>Particle sources: (none)<br><br>Free parameters:<br><table id=\"table89950928\">\n",
       "<thead><tr><th>name</th><th>value</th><th>min_value</th><th>max_value</th><th>unit</th><th>delta</th><th>free</th></tr></thead>\n",
       "<tr><td>source_1.spectrum.main.powerlaw.K</td><td>1e-05</td><td>None</td><td>None</td><td>1 / (cm2 keV s)</td><td>0.3</td><td>True</td></tr>\n",
       "<tr><td>source_1.spectrum.main.powerlaw.index</td><td>-1.3</td><td>-10.0</td><td>10.0</td><td></td><td>0.6</td><td>True</td></tr>\n",
       "<tr><td>source_2.spectrum.synchrotron.powerlaw.K</td><td>1e-05</td><td>None</td><td>None</td><td>1 / (cm2 keV s)</td><td>0.3</td><td>True</td></tr>\n",
       "<tr><td>source_2.spectrum.synchrotron.powerlaw.index</td><td>-0.75</td><td>-10.0</td><td>10.0</td><td></td><td>0.6</td><td>True</td></tr>\n",
       "<tr><td>source_2.spectrum.IC.powerlaw.K</td><td>1e-06</td><td>None</td><td>None</td><td>1 / (cm2 keV s)</td><td>0.3</td><td>True</td></tr>\n",
       "</table><br><br>Linked parameters:<br><table id=\"table89951824\">\n",
       "<thead><tr><th>name</th><th>linked to</th><th>function</th><th>current value</th><th>unit</th></tr></thead>\n",
       "<tr><td>source_2.spectrum.IC.powerlaw.index</td><td>source_1.spectrum.main.powerlaw.index</td><td>bias</td><td>-2.5</td><td></td></tr>\n",
       "</table>"
      ],
      "text/plain": [
       "Point sources: source_1,source_2\n",
       "\n",
       "Extended sources: (none)\n",
       "\n",
       "Particle sources: (none)\n",
       "\n",
       "Free parameters:\n",
       "                    name                     value min_value ... delta free\n",
       "-------------------------------------------- ----- --------- ... ----- ----\n",
       "           source_1.spectrum.main.powerlaw.K 1e-05      None ...   0.3 True\n",
       "       source_1.spectrum.main.powerlaw.index  -1.3     -10.0 ...   0.6 True\n",
       "    source_2.spectrum.synchrotron.powerlaw.K 1e-05      None ...   0.3 True\n",
       "source_2.spectrum.synchrotron.powerlaw.index -0.75     -10.0 ...   0.6 True\n",
       "             source_2.spectrum.IC.powerlaw.K 1e-06      None ...   0.3 True\n",
       "\n",
       "\n",
       "Linked parameters:\n",
       "                name                ... unit\n",
       "----------------------------------- ... ----\n",
       "source_2.spectrum.IC.powerlaw.index ...     "
      ]
     },
     "metadata": {},
     "output_type": "display_data"
    }
   ],
   "source": [
    "my_model.source_2.spectrum.IC.powerlaw.index.bias.k = -1.2\n",
    "my_model.source_2.spectrum.IC.powerlaw.index.bias.k.fix = True\n",
    "\n",
    "my_model.display()"
   ]
  },
  {
   "cell_type": "markdown",
   "metadata": {},
   "source": [
    "As another example, we might link the two parameters using a power law function:"
   ]
  },
  {
   "cell_type": "code",
   "execution_count": 26,
   "metadata": {},
   "outputs": [
    {
     "data": {
      "text/html": [
       "Point sources: source_1,source_2<br><br>Extended sources: (none)<br><br>Particle sources: (none)<br><br>Free parameters:<br><table id=\"table87796368\">\n",
       "<thead><tr><th>name</th><th>value</th><th>min_value</th><th>max_value</th><th>unit</th><th>delta</th><th>free</th></tr></thead>\n",
       "<tr><td>source_1.spectrum.main.powerlaw.K</td><td>1e-05</td><td>None</td><td>None</td><td>1 / (cm2 keV s)</td><td>0.3</td><td>True</td></tr>\n",
       "<tr><td>source_1.spectrum.main.powerlaw.index</td><td>-1.3</td><td>-10.0</td><td>10.0</td><td></td><td>0.6</td><td>True</td></tr>\n",
       "<tr><td>source_2.spectrum.synchrotron.powerlaw.K</td><td>1e-05</td><td>None</td><td>None</td><td>1 / (cm2 keV s)</td><td>0.3</td><td>True</td></tr>\n",
       "<tr><td>source_2.spectrum.synchrotron.powerlaw.index</td><td>-0.75</td><td>-10.0</td><td>10.0</td><td></td><td>0.6</td><td>True</td></tr>\n",
       "<tr><td>source_2.spectrum.IC.powerlaw.K</td><td>1e-06</td><td>None</td><td>None</td><td>1 / (cm2 keV s)</td><td>0.3</td><td>True</td></tr>\n",
       "<tr><td>source_2.spectrum.IC.powerlaw.index.powerlaw.K</td><td>1.0</td><td>None</td><td>None</td><td></td><td>0.3</td><td>True</td></tr>\n",
       "<tr><td>source_2.spectrum.IC.powerlaw.index.powerlaw.index</td><td>-2.0</td><td>-10.0</td><td>10.0</td><td></td><td>0.6</td><td>True</td></tr>\n",
       "</table><br><br>Linked parameters:<br><table id=\"table89949840\">\n",
       "<thead><tr><th>name</th><th>linked to</th><th>function</th><th>current value</th><th>unit</th></tr></thead>\n",
       "<tr><td>source_2.spectrum.IC.powerlaw.index</td><td>source_1.spectrum.main.powerlaw.index</td><td>powerlaw</td><td>0.591715976331</td><td></td></tr>\n",
       "</table>"
      ],
      "text/plain": [
       "Point sources: source_1,source_2\n",
       "\n",
       "Extended sources: (none)\n",
       "\n",
       "Particle sources: (none)\n",
       "\n",
       "Free parameters:\n",
       "                       name                        value ... delta free\n",
       "-------------------------------------------------- ----- ... ----- ----\n",
       "                 source_1.spectrum.main.powerlaw.K 1e-05 ...   0.3 True\n",
       "             source_1.spectrum.main.powerlaw.index  -1.3 ...   0.6 True\n",
       "          source_2.spectrum.synchrotron.powerlaw.K 1e-05 ...   0.3 True\n",
       "      source_2.spectrum.synchrotron.powerlaw.index -0.75 ...   0.6 True\n",
       "                   source_2.spectrum.IC.powerlaw.K 1e-06 ...   0.3 True\n",
       "    source_2.spectrum.IC.powerlaw.index.powerlaw.K   1.0 ...   0.3 True\n",
       "source_2.spectrum.IC.powerlaw.index.powerlaw.index  -2.0 ...   0.6 True\n",
       "\n",
       "\n",
       "Linked parameters:\n",
       "                name                ... unit\n",
       "----------------------------------- ... ----\n",
       "source_2.spectrum.IC.powerlaw.index ...     "
      ]
     },
     "metadata": {},
     "output_type": "display_data"
    }
   ],
   "source": [
    "my_model.link(my_model.source_2.spectrum.IC.powerlaw.index,\n",
    "              my_model.source_1.spectrum.main.powerlaw.index,\n",
    "              powerlaw())\n",
    "\n",
    "my_model.display()"
   ]
  },
  {
   "cell_type": "markdown",
   "metadata": {},
   "source": [
    "We can use arbitrarily complex functions as link function, if needed (see \"Creating and modifying functions\" for more info on how to create composite functions):"
   ]
  },
  {
   "cell_type": "code",
   "execution_count": 27,
   "metadata": {},
   "outputs": [
    {
     "data": {
      "text/html": [
       "Point sources: source_1,source_2<br><br>Extended sources: (none)<br><br>Particle sources: (none)<br><br>Free parameters:<br><table id=\"table89951824\">\n",
       "<thead><tr><th>name</th><th>value</th><th>min_value</th><th>max_value</th><th>unit</th><th>delta</th><th>free</th></tr></thead>\n",
       "<tr><td>source_1.spectrum.main.powerlaw.K</td><td>1e-05</td><td>None</td><td>None</td><td>1 / (cm2 keV s)</td><td>0.3</td><td>True</td></tr>\n",
       "<tr><td>source_1.spectrum.main.powerlaw.index</td><td>-1.3</td><td>-10.0</td><td>10.0</td><td></td><td>0.6</td><td>True</td></tr>\n",
       "<tr><td>source_2.spectrum.synchrotron.powerlaw.K</td><td>1e-05</td><td>None</td><td>None</td><td>1 / (cm2 keV s)</td><td>0.3</td><td>True</td></tr>\n",
       "<tr><td>source_2.spectrum.synchrotron.powerlaw.index</td><td>-0.75</td><td>-10.0</td><td>10.0</td><td></td><td>0.6</td><td>True</td></tr>\n",
       "<tr><td>source_2.spectrum.IC.powerlaw.K</td><td>1e-06</td><td>None</td><td>None</td><td>1 / (cm2 keV s)</td><td>0.3</td><td>True</td></tr>\n",
       "<tr><td>source_2.spectrum.IC.powerlaw.index.powerlaw.K</td><td>1.0</td><td>None</td><td>None</td><td></td><td>0.3</td><td>True</td></tr>\n",
       "<tr><td>source_2.spectrum.IC.powerlaw.index.powerlaw.index</td><td>-2.0</td><td>-10.0</td><td>10.0</td><td></td><td>0.6</td><td>True</td></tr>\n",
       "<tr><td>source_2.spectrum.IC.powerlaw.index.composite.K_1</td><td>1.0</td><td>None</td><td>None</td><td></td><td>0.3</td><td>True</td></tr>\n",
       "<tr><td>source_2.spectrum.IC.powerlaw.index.composite.index_1</td><td>-2.0</td><td>-10.0</td><td>10.0</td><td></td><td>0.6</td><td>True</td></tr>\n",
       "<tr><td>source_2.spectrum.IC.powerlaw.index.composite.F_2</td><td>1.0</td><td>None</td><td>None</td><td></td><td>0.3</td><td>True</td></tr>\n",
       "<tr><td>source_2.spectrum.IC.powerlaw.index.composite.mu_2</td><td>0.0</td><td>None</td><td>None</td><td></td><td>0.1</td><td>True</td></tr>\n",
       "<tr><td>source_2.spectrum.IC.powerlaw.index.composite.sigma_2</td><td>1.0</td><td>1e-12</td><td>None</td><td></td><td>0.3</td><td>True</td></tr>\n",
       "</table><br><br>Linked parameters:<br><table id=\"table89944656\">\n",
       "<thead><tr><th>name</th><th>linked to</th><th>function</th><th>current value</th><th>unit</th></tr></thead>\n",
       "<tr><td>source_2.spectrum.IC.powerlaw.index</td><td>source_1.spectrum.main.powerlaw.index</td><td>composite</td><td>0.763084568379</td><td></td></tr>\n",
       "</table>"
      ],
      "text/plain": [
       "Point sources: source_1,source_2\n",
       "\n",
       "Extended sources: (none)\n",
       "\n",
       "Particle sources: (none)\n",
       "\n",
       "Free parameters:\n",
       "                         name                         value ... delta free\n",
       "----------------------------------------------------- ----- ... ----- ----\n",
       "                    source_1.spectrum.main.powerlaw.K 1e-05 ...   0.3 True\n",
       "                source_1.spectrum.main.powerlaw.index  -1.3 ...   0.6 True\n",
       "             source_2.spectrum.synchrotron.powerlaw.K 1e-05 ...   0.3 True\n",
       "         source_2.spectrum.synchrotron.powerlaw.index -0.75 ...   0.6 True\n",
       "                      source_2.spectrum.IC.powerlaw.K 1e-06 ...   0.3 True\n",
       "       source_2.spectrum.IC.powerlaw.index.powerlaw.K   1.0 ...   0.3 True\n",
       "   source_2.spectrum.IC.powerlaw.index.powerlaw.index  -2.0 ...   0.6 True\n",
       "    source_2.spectrum.IC.powerlaw.index.composite.K_1   1.0 ...   0.3 True\n",
       "source_2.spectrum.IC.powerlaw.index.composite.index_1  -2.0 ...   0.6 True\n",
       "    source_2.spectrum.IC.powerlaw.index.composite.F_2   1.0 ...   0.3 True\n",
       "   source_2.spectrum.IC.powerlaw.index.composite.mu_2   0.0 ...   0.1 True\n",
       "source_2.spectrum.IC.powerlaw.index.composite.sigma_2   1.0 ...   0.3 True\n",
       "\n",
       "\n",
       "Linked parameters:\n",
       "                name                ... unit\n",
       "----------------------------------- ... ----\n",
       "source_2.spectrum.IC.powerlaw.index ...     "
      ]
     },
     "metadata": {},
     "output_type": "display_data"
    }
   ],
   "source": [
    "# A random composite function (see \"Creating and modifying functions\" for more info)\n",
    "crazy_link = powerlaw() + gaussian()\n",
    "\n",
    "my_model.link(my_model.source_2.spectrum.IC.powerlaw.index,\n",
    "              my_model.source_1.spectrum.main.powerlaw.index,\n",
    "              crazy_link)\n",
    "\n",
    "my_model.display()"
   ]
  },
  {
   "cell_type": "markdown",
   "metadata": {},
   "source": [
    "## Time-varying models and other independent variables"
   ]
  },
  {
   "cell_type": "markdown",
   "metadata": {},
   "source": [
    "In astromodels parameters can become functions of independent variables such as time. This is accomplished in a way which is similar to the procedure to link parameters described above. First, let's create an independent variable. An IndependentVariable instance is created and added to the model like this:"
   ]
  },
  {
   "cell_type": "code",
   "execution_count": 28,
   "metadata": {
    "collapsed": true
   },
   "outputs": [],
   "source": [
    "# Add the time as an independent variable of the model\n",
    "\n",
    "time = IndependentVariable(\"time\",0.0, unit='s')\n",
    "\n",
    "my_model.add_independent_variable(time)"
   ]
  },
  {
   "cell_type": "markdown",
   "metadata": {},
   "source": [
    "The IndependentVariable instance is inserted at the root of the model tree. In this case, can be accessed as:"
   ]
  },
  {
   "cell_type": "code",
   "execution_count": 29,
   "metadata": {},
   "outputs": [
    {
     "data": {
      "text/html": [
       "IndependentVariable time = 0.0 s\n",
       "(min_value = None, max_value = None)"
      ],
      "text/plain": [
       "IndependentVariable time = 0.0 s\n",
       "(min_value = None, max_value = None)"
      ]
     },
     "metadata": {},
     "output_type": "display_data"
    }
   ],
   "source": [
    "my_model.time.display()"
   ]
  },
  {
   "cell_type": "markdown",
   "metadata": {},
   "source": [
    "We can now link any parameter to be a function of time, like this:"
   ]
  },
  {
   "cell_type": "code",
   "execution_count": 30,
   "metadata": {},
   "outputs": [],
   "source": [
    "# First define the function. In this case, a linear function ax+b\n",
    "law = line(a=-0.02,b=-2.0)\n",
    "\n",
    "# Now link the index of the sync. component of source_2 to be law(t)\n",
    "# i.e., index = law(t) = a*t + b\n",
    "\n",
    "my_model.link(my_model.source_2.spectrum.synchrotron.powerlaw.index,\n",
    "             time,\n",
    "             law)"
   ]
  },
  {
   "cell_type": "code",
   "execution_count": 31,
   "metadata": {},
   "outputs": [
    {
     "name": "stdout",
     "output_type": "stream",
     "text": [
      "At time 1.0 s the value of the parameter is -2.02\n",
      "At time 2.0 s the value of the parameter is -2.04\n",
      "At time 3.0 s the value of the parameter is -2.06\n",
      "At time 4.0 s the value of the parameter is -2.08\n",
      "At time 5.0 s the value of the parameter is -2.1\n",
      "At time 6.0 s the value of the parameter is -2.12\n",
      "At time 7.0 s the value of the parameter is -2.14\n",
      "At time 8.0 s the value of the parameter is -2.16\n",
      "At time 9.0 s the value of the parameter is -2.18\n",
      "At time 10.0 s the value of the parameter is -2.2\n"
     ]
    }
   ],
   "source": [
    "# This would show the link:\n",
    "# my_model.display()\n",
    "\n",
    "# Now changing the value of time will change the value of the parameter\n",
    "# according to the law. For example, let's loop over 10 s and print\n",
    "# the value of the parameter\n",
    "\n",
    "# Reset time\n",
    "my_model.time = 0.0\n",
    "\n",
    "for i in range(10):\n",
    "    \n",
    "    my_model.time = my_model.time.value + 1.0 * u.s\n",
    "    \n",
    "    print(\"At time %s the value of the parameter is %s\" % (my_model.time.value, \n",
    "                    my_model.source_2.spectrum.synchrotron.powerlaw.index.value))"
   ]
  },
  {
   "cell_type": "code",
   "execution_count": 32,
   "metadata": {},
   "outputs": [
    {
     "data": {
      "image/png": "[encoded data removed]",
      "text/plain": [
       "<matplotlib.figure.Figure at 0x55c0390>"
      ]
     },
     "metadata": {},
     "output_type": "display_data"
    }
   ],
   "source": [
    "# Now plot the synch. spectrum of the source at different times\n",
    "# (you will need matplotlib for this)\n",
    "\n",
    "import matplotlib.pyplot as plt\n",
    "\n",
    "# This is needed only in the ipython notebook\n",
    "%matplotlib inline\n",
    "\n",
    "# Prepare 100 logarithmically distributed energies between 1 and 100 keV\n",
    "energies = np.logspace(0,2,100)\n",
    "\n",
    "# Compute and plot the sync. spectrum every 10 s between 0 and 50 seconds\n",
    "\n",
    "times = np.linspace(0,50,6)\n",
    "\n",
    "my_model.time = 0.0\n",
    "\n",
    "for tt in times:\n",
    "    \n",
    "    my_model.time = tt\n",
    "    \n",
    "    plt.loglog(energies, my_model.source_2.spectrum.synchrotron(energies),label='t = %s' % my_model.time.value)\n",
    "\n",
    "plt.legend(loc=1,ncol=2)\n",
    "_ = plt.xlabel(\"Energy (keV)\")\n",
    "_ = plt.ylabel(r\"Differential flux (ph. cm$^{-2}$ s$^{-1}$ keV$^{-1}$)\")"
   ]
  },
  {
   "cell_type": "code",
   "execution_count": null,
   "metadata": {
    "collapsed": true
   },
   "outputs": [],
   "source": []
  }
 ],
 "metadata": {
  "kernelspec": {
   "display_name": "Python 2",
   "language": "python",
   "name": "python2"
  },
  "language_info": {
   "codemirror_mode": {
    "name": "ipython",
    "version": 2
   },
   "file_extension": ".py",
   "mimetype": "text/x-python",
   "name": "python",
   "nbconvert_exporter": "python",
   "pygments_lexer": "ipython2",
   "version": "2.7.15"
  },
  "toc": {
   "base_numbering": 1,
   "nav_menu": {},
   "number_sections": true,
   "sideBar": true,
   "skip_h1_title": false,
   "title_cell": "Table of Contents",
   "title_sidebar": "Contents",
   "toc_cell": false,
   "toc_position": {},
   "toc_section_display": true,
   "toc_window_display": false
  },
  "varInspector": {
   "cols": {
    "lenName": 16,
    "lenType": 16,
    "lenVar": 40
   },
   "kernels_config": {
    "python": {
     "delete_cmd_postfix": "",
     "delete_cmd_prefix": "del ",
     "library": "var_list.py",
     "varRefreshCmd": "print(var_dic_list())"
    },
    "r": {
     "delete_cmd_postfix": ") ",
     "delete_cmd_prefix": "rm(",
     "library": "var_list.r",
     "varRefreshCmd": "cat(var_dic_list()) "
    }
   },
   "types_to_exclude": [
    "module",
    "function",
    "builtin_function_or_method",
    "instance",
    "_Feature"
   ],
   "window_display": false
  }
 },
 "nbformat": 4,
 "nbformat_minor": 1
}
